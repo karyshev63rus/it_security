{
  "cells": [
    {
      "cell_type": "code",
      "execution_count": 1,
      "metadata": {
        "colab": {
          "base_uri": "https://localhost:8080/"
        },
        "id": "YqsClLee-W2H",
        "outputId": "5c5442c8-e88d-4f57-bcf3-9b5b4be75e1a"
      },
      "outputs": [
        {
          "output_type": "stream",
          "name": "stdout",
          "text": [
            "Looking in indexes: https://pypi.org/simple, https://us-python.pkg.dev/colab-wheels/public/simple/\n",
            "Requirement already satisfied: dmba in /usr/local/lib/python3.8/dist-packages (0.1.0)\n"
          ]
        }
      ],
      "source": [
        "!pip install dmba"
      ]
    },
    {
      "cell_type": "code",
      "execution_count": 2,
      "metadata": {
        "id": "zeC4asysoKCS",
        "colab": {
          "base_uri": "https://localhost:8080/"
        },
        "outputId": "6ddec04d-7a74-4188-9987-0a9602090031"
      },
      "outputs": [
        {
          "output_type": "stream",
          "name": "stdout",
          "text": [
            "no display found. Using non-interactive Agg backend\n"
          ]
        }
      ],
      "source": [
        "import numpy as np\n",
        "import pandas as pd\n",
        "import matplotlib.pyplot as plt\n",
        "from sklearn.metrics import r2_score, mean_squared_error\n",
        "from sklearn.linear_model import LinearRegression\n",
        "import statsmodels.api as sm\n",
        "from dmba import stepwise_selection\n",
        "from dmba import AIC_score\n",
        "\n",
        "from sklearn.preprocessing import LabelEncoder\n",
        "from sklearn.model_selection import train_test_split\n",
        "\n",
        "from sklearn.preprocessing import StandardScaler  \n",
        "from sklearn.pipeline import Pipeline\n",
        "from sklearn.neighbors import KNeighborsClassifier \n",
        "from sklearn.linear_model import LogisticRegression\n",
        "from sklearn.tree import DecisionTreeClassifier\n",
        "from sklearn.ensemble import RandomForestClassifier\n",
        "from sklearn.ensemble import GradientBoostingClassifier\n",
        "from sklearn.model_selection import cross_val_score\n",
        "\n",
        "from sklearn.metrics import accuracy_score\n",
        "from sklearn.metrics import roc_curve\n",
        "from sklearn.metrics import auc"
      ]
    },
    {
      "cell_type": "code",
      "execution_count": 3,
      "metadata": {
        "id": "ewV01kIEGV_L"
      },
      "outputs": [],
      "source": [
        "%matplotlib inline"
      ]
    },
    {
      "cell_type": "code",
      "execution_count": 4,
      "metadata": {
        "colab": {
          "base_uri": "https://localhost:8080/"
        },
        "id": "g6N7hNvyoYNj",
        "outputId": "49e70dfe-cd1b-46fa-92cd-ae0f2cf6e756"
      },
      "outputs": [
        {
          "output_type": "stream",
          "name": "stdout",
          "text": [
            "<class 'pandas.core.frame.DataFrame'>\n",
            "Int64Index: 1127 entries, 1 to 487\n",
            "Data columns (total 6 columns):\n",
            " #   Column    Non-Null Count  Dtype  \n",
            "---  ------    --------------  -----  \n",
            " 0   ROA       1120 non-null   float64\n",
            " 1   ROE       1117 non-null   float64\n",
            " 2   IND       1127 non-null   int64  \n",
            " 3   INFR      1127 non-null   int64  \n",
            " 4   PEOPLE    1127 non-null   int64  \n",
            " 5   PARTNERS  1127 non-null   int64  \n",
            "dtypes: float64(2), int64(4)\n",
            "memory usage: 61.6 KB\n"
          ]
        }
      ],
      "source": [
        "df = pd.read_csv('./cybersec_final_data.csv', sep=';', decimal=',', index_col='ID')\n",
        "columns = ['ROA', 'ROE', 'IND', 'INFR', 'PEOPLE', 'PARTNERS']\n",
        "df = df[columns]\n",
        "df.info()"
      ]
    },
    {
      "cell_type": "markdown",
      "metadata": {
        "id": "F9Qjvk6tgtfk"
      },
      "source": [
        "#Preprocessing"
      ]
    },
    {
      "cell_type": "code",
      "execution_count": 5,
      "metadata": {
        "colab": {
          "base_uri": "https://localhost:8080/",
          "height": 206
        },
        "id": "U9G4IapIvcS1",
        "outputId": "ad63af94-379c-4099-f5f6-db891606a71f"
      },
      "outputs": [
        {
          "output_type": "execute_result",
          "data": {
            "text/plain": [
              "               ROA       ROE      INFR    PEOPLE  PARTNERS\n",
              "ROA       1.000000  0.008218  0.116992  0.078316  0.001306\n",
              "ROE       0.008218  1.000000  0.520908  0.356874  0.255719\n",
              "INFR      0.116992  0.520908  1.000000  0.706253  0.295150\n",
              "PEOPLE    0.078316  0.356874  0.706253  1.000000  0.228645\n",
              "PARTNERS  0.001306  0.255719  0.295150  0.228645  1.000000"
            ],
            "text/html": [
              "\n",
              "  <div id=\"df-5fd5e034-a3c7-4b6c-9c2a-199f104a26cc\">\n",
              "    <div class=\"colab-df-container\">\n",
              "      <div>\n",
              "<style scoped>\n",
              "    .dataframe tbody tr th:only-of-type {\n",
              "        vertical-align: middle;\n",
              "    }\n",
              "\n",
              "    .dataframe tbody tr th {\n",
              "        vertical-align: top;\n",
              "    }\n",
              "\n",
              "    .dataframe thead th {\n",
              "        text-align: right;\n",
              "    }\n",
              "</style>\n",
              "<table border=\"1\" class=\"dataframe\">\n",
              "  <thead>\n",
              "    <tr style=\"text-align: right;\">\n",
              "      <th></th>\n",
              "      <th>ROA</th>\n",
              "      <th>ROE</th>\n",
              "      <th>INFR</th>\n",
              "      <th>PEOPLE</th>\n",
              "      <th>PARTNERS</th>\n",
              "    </tr>\n",
              "  </thead>\n",
              "  <tbody>\n",
              "    <tr>\n",
              "      <th>ROA</th>\n",
              "      <td>1.000000</td>\n",
              "      <td>0.008218</td>\n",
              "      <td>0.116992</td>\n",
              "      <td>0.078316</td>\n",
              "      <td>0.001306</td>\n",
              "    </tr>\n",
              "    <tr>\n",
              "      <th>ROE</th>\n",
              "      <td>0.008218</td>\n",
              "      <td>1.000000</td>\n",
              "      <td>0.520908</td>\n",
              "      <td>0.356874</td>\n",
              "      <td>0.255719</td>\n",
              "    </tr>\n",
              "    <tr>\n",
              "      <th>INFR</th>\n",
              "      <td>0.116992</td>\n",
              "      <td>0.520908</td>\n",
              "      <td>1.000000</td>\n",
              "      <td>0.706253</td>\n",
              "      <td>0.295150</td>\n",
              "    </tr>\n",
              "    <tr>\n",
              "      <th>PEOPLE</th>\n",
              "      <td>0.078316</td>\n",
              "      <td>0.356874</td>\n",
              "      <td>0.706253</td>\n",
              "      <td>1.000000</td>\n",
              "      <td>0.228645</td>\n",
              "    </tr>\n",
              "    <tr>\n",
              "      <th>PARTNERS</th>\n",
              "      <td>0.001306</td>\n",
              "      <td>0.255719</td>\n",
              "      <td>0.295150</td>\n",
              "      <td>0.228645</td>\n",
              "      <td>1.000000</td>\n",
              "    </tr>\n",
              "  </tbody>\n",
              "</table>\n",
              "</div>\n",
              "      <button class=\"colab-df-convert\" onclick=\"convertToInteractive('df-5fd5e034-a3c7-4b6c-9c2a-199f104a26cc')\"\n",
              "              title=\"Convert this dataframe to an interactive table.\"\n",
              "              style=\"display:none;\">\n",
              "        \n",
              "  <svg xmlns=\"http://www.w3.org/2000/svg\" height=\"24px\"viewBox=\"0 0 24 24\"\n",
              "       width=\"24px\">\n",
              "    <path d=\"M0 0h24v24H0V0z\" fill=\"none\"/>\n",
              "    <path d=\"M18.56 5.44l.94 2.06.94-2.06 2.06-.94-2.06-.94-.94-2.06-.94 2.06-2.06.94zm-11 1L8.5 8.5l.94-2.06 2.06-.94-2.06-.94L8.5 2.5l-.94 2.06-2.06.94zm10 10l.94 2.06.94-2.06 2.06-.94-2.06-.94-.94-2.06-.94 2.06-2.06.94z\"/><path d=\"M17.41 7.96l-1.37-1.37c-.4-.4-.92-.59-1.43-.59-.52 0-1.04.2-1.43.59L10.3 9.45l-7.72 7.72c-.78.78-.78 2.05 0 2.83L4 21.41c.39.39.9.59 1.41.59.51 0 1.02-.2 1.41-.59l7.78-7.78 2.81-2.81c.8-.78.8-2.07 0-2.86zM5.41 20L4 18.59l7.72-7.72 1.47 1.35L5.41 20z\"/>\n",
              "  </svg>\n",
              "      </button>\n",
              "      \n",
              "  <style>\n",
              "    .colab-df-container {\n",
              "      display:flex;\n",
              "      flex-wrap:wrap;\n",
              "      gap: 12px;\n",
              "    }\n",
              "\n",
              "    .colab-df-convert {\n",
              "      background-color: #E8F0FE;\n",
              "      border: none;\n",
              "      border-radius: 50%;\n",
              "      cursor: pointer;\n",
              "      display: none;\n",
              "      fill: #1967D2;\n",
              "      height: 32px;\n",
              "      padding: 0 0 0 0;\n",
              "      width: 32px;\n",
              "    }\n",
              "\n",
              "    .colab-df-convert:hover {\n",
              "      background-color: #E2EBFA;\n",
              "      box-shadow: 0px 1px 2px rgba(60, 64, 67, 0.3), 0px 1px 3px 1px rgba(60, 64, 67, 0.15);\n",
              "      fill: #174EA6;\n",
              "    }\n",
              "\n",
              "    [theme=dark] .colab-df-convert {\n",
              "      background-color: #3B4455;\n",
              "      fill: #D2E3FC;\n",
              "    }\n",
              "\n",
              "    [theme=dark] .colab-df-convert:hover {\n",
              "      background-color: #434B5C;\n",
              "      box-shadow: 0px 1px 3px 1px rgba(0, 0, 0, 0.15);\n",
              "      filter: drop-shadow(0px 1px 2px rgba(0, 0, 0, 0.3));\n",
              "      fill: #FFFFFF;\n",
              "    }\n",
              "  </style>\n",
              "\n",
              "      <script>\n",
              "        const buttonEl =\n",
              "          document.querySelector('#df-5fd5e034-a3c7-4b6c-9c2a-199f104a26cc button.colab-df-convert');\n",
              "        buttonEl.style.display =\n",
              "          google.colab.kernel.accessAllowed ? 'block' : 'none';\n",
              "\n",
              "        async function convertToInteractive(key) {\n",
              "          const element = document.querySelector('#df-5fd5e034-a3c7-4b6c-9c2a-199f104a26cc');\n",
              "          const dataTable =\n",
              "            await google.colab.kernel.invokeFunction('convertToInteractive',\n",
              "                                                     [key], {});\n",
              "          if (!dataTable) return;\n",
              "\n",
              "          const docLinkHtml = 'Like what you see? Visit the ' +\n",
              "            '<a target=\"_blank\" href=https://colab.research.google.com/notebooks/data_table.ipynb>data table notebook</a>'\n",
              "            + ' to learn more about interactive tables.';\n",
              "          element.innerHTML = '';\n",
              "          dataTable['output_type'] = 'display_data';\n",
              "          await google.colab.output.renderOutput(dataTable, element);\n",
              "          const docLink = document.createElement('div');\n",
              "          docLink.innerHTML = docLinkHtml;\n",
              "          element.appendChild(docLink);\n",
              "        }\n",
              "      </script>\n",
              "    </div>\n",
              "  </div>\n",
              "  "
            ]
          },
          "metadata": {},
          "execution_count": 5
        }
      ],
      "source": [
        "df.drop('IND', axis=1).corr()"
      ]
    },
    {
      "cell_type": "code",
      "execution_count": 6,
      "metadata": {
        "id": "CcmfSuZVzjpr"
      },
      "outputs": [],
      "source": [
        "df = df.drop(['ROA', 'PEOPLE'], axis=1)"
      ]
    },
    {
      "cell_type": "code",
      "execution_count": 7,
      "metadata": {
        "id": "2rKW106LZ--x"
      },
      "outputs": [],
      "source": [
        "df = pd.get_dummies(df, columns = ['IND'])\n",
        "df = df.rename( columns={ \n",
        "    'IND_1':'IT&Telecom', 'IND_2':'Finance', 'IND_3':'Construction', \n",
        "    'IND_4':'Manufacture', 'IND_5':'Energy', 'IND_6':'Medicine', 'IND_7':'Others'})\n",
        "df_cluster = df.drop('ROE', axis=1)"
      ]
    },
    {
      "cell_type": "code",
      "execution_count": 8,
      "metadata": {
        "id": "BzfzLssiIY05"
      },
      "outputs": [],
      "source": [
        "df['ROE'] = df['ROE'].replace(np.NaN, df['ROE'].mean())"
      ]
    },
    {
      "cell_type": "code",
      "execution_count": 9,
      "metadata": {
        "id": "B-NwbapUIXNv"
      },
      "outputs": [],
      "source": [
        "df_tream = df[df['Others'] !=1].drop(['Others'], axis=1)"
      ]
    },
    {
      "cell_type": "code",
      "execution_count": 10,
      "metadata": {
        "id": "h95-IywyIXQq"
      },
      "outputs": [],
      "source": [
        "X_reg = df_tream.loc[:, ~df_tream.columns.isin(['ROE'])]\n",
        "Y = df_tream['ROE']"
      ]
    },
    {
      "cell_type": "markdown",
      "metadata": {
        "id": "8BGNUxlegiOD"
      },
      "source": [
        "#Regression"
      ]
    },
    {
      "cell_type": "code",
      "execution_count": 11,
      "metadata": {
        "id": "d-DUq-aJIXUE",
        "colab": {
          "base_uri": "https://localhost:8080/",
          "height": 597
        },
        "outputId": "72e5d559-6905-4d57-ae65-bbffd858b97e"
      },
      "outputs": [
        {
          "output_type": "stream",
          "name": "stdout",
          "text": [
            "Variables: INFR, PARTNERS, IT&Telecom, Finance, Construction, Manufacture, Energy, Medicine\n",
            "Start: score=5531.24, constant\n",
            "Step: score=5203.77, add INFR\n",
            "Step: score=5196.63, add PARTNERS\n",
            "Step: score=5190.90, add Medicine\n",
            "Step: score=5190.90, unchanged None\n"
          ]
        },
        {
          "output_type": "execute_result",
          "data": {
            "text/plain": [
              "<class 'statsmodels.iolib.summary.Summary'>\n",
              "\"\"\"\n",
              "                            OLS Regression Results                            \n",
              "==============================================================================\n",
              "Dep. Variable:                    ROE   R-squared:                       0.325\n",
              "Model:                            OLS   Adj. R-squared:                  0.323\n",
              "Method:                 Least Squares   F-statistic:                     140.8\n",
              "Date:                Wed, 11 Jan 2023   Prob (F-statistic):           1.84e-74\n",
              "Time:                        17:02:15   Log-Likelihood:                -2590.5\n",
              "No. Observations:                 881   AIC:                             5189.\n",
              "Df Residuals:                     877   BIC:                             5208.\n",
              "Df Model:                           3                                         \n",
              "Covariance Type:            nonrobust                                         \n",
              "==============================================================================\n",
              "                 coef    std err          t      P>|t|      [0.025      0.975]\n",
              "------------------------------------------------------------------------------\n",
              "INFR          11.4972      0.625     18.403      0.000      10.271      12.723\n",
              "PARTNERS       1.3162      0.435      3.027      0.003       0.463       2.170\n",
              "Medicine      -1.2713      0.458     -2.779      0.006      -2.169      -0.373\n",
              "const        -36.9373      1.822    -20.278      0.000     -40.512     -33.362\n",
              "==============================================================================\n",
              "Omnibus:                     1458.637   Durbin-Watson:                   2.040\n",
              "Prob(Omnibus):                  0.000   Jarque-Bera (JB):          2498795.771\n",
              "Skew:                          -9.741   Prob(JB):                         0.00\n",
              "Kurtosis:                     263.177   Cond. No.                         46.0\n",
              "==============================================================================\n",
              "\n",
              "Notes:\n",
              "[1] Standard Errors assume that the covariance matrix of the errors is correctly specified.\n",
              "\"\"\""
            ],
            "text/html": [
              "<table class=\"simpletable\">\n",
              "<caption>OLS Regression Results</caption>\n",
              "<tr>\n",
              "  <th>Dep. Variable:</th>           <td>ROE</td>       <th>  R-squared:         </th> <td>   0.325</td>\n",
              "</tr>\n",
              "<tr>\n",
              "  <th>Model:</th>                   <td>OLS</td>       <th>  Adj. R-squared:    </th> <td>   0.323</td>\n",
              "</tr>\n",
              "<tr>\n",
              "  <th>Method:</th>             <td>Least Squares</td>  <th>  F-statistic:       </th> <td>   140.8</td>\n",
              "</tr>\n",
              "<tr>\n",
              "  <th>Date:</th>             <td>Wed, 11 Jan 2023</td> <th>  Prob (F-statistic):</th> <td>1.84e-74</td>\n",
              "</tr>\n",
              "<tr>\n",
              "  <th>Time:</th>                 <td>17:02:15</td>     <th>  Log-Likelihood:    </th> <td> -2590.5</td>\n",
              "</tr>\n",
              "<tr>\n",
              "  <th>No. Observations:</th>      <td>   881</td>      <th>  AIC:               </th> <td>   5189.</td>\n",
              "</tr>\n",
              "<tr>\n",
              "  <th>Df Residuals:</th>          <td>   877</td>      <th>  BIC:               </th> <td>   5208.</td>\n",
              "</tr>\n",
              "<tr>\n",
              "  <th>Df Model:</th>              <td>     3</td>      <th>                     </th>     <td> </td>   \n",
              "</tr>\n",
              "<tr>\n",
              "  <th>Covariance Type:</th>      <td>nonrobust</td>    <th>                     </th>     <td> </td>   \n",
              "</tr>\n",
              "</table>\n",
              "<table class=\"simpletable\">\n",
              "<tr>\n",
              "      <td></td>        <th>coef</th>     <th>std err</th>      <th>t</th>      <th>P>|t|</th>  <th>[0.025</th>    <th>0.975]</th>  \n",
              "</tr>\n",
              "<tr>\n",
              "  <th>INFR</th>     <td>   11.4972</td> <td>    0.625</td> <td>   18.403</td> <td> 0.000</td> <td>   10.271</td> <td>   12.723</td>\n",
              "</tr>\n",
              "<tr>\n",
              "  <th>PARTNERS</th> <td>    1.3162</td> <td>    0.435</td> <td>    3.027</td> <td> 0.003</td> <td>    0.463</td> <td>    2.170</td>\n",
              "</tr>\n",
              "<tr>\n",
              "  <th>Medicine</th> <td>   -1.2713</td> <td>    0.458</td> <td>   -2.779</td> <td> 0.006</td> <td>   -2.169</td> <td>   -0.373</td>\n",
              "</tr>\n",
              "<tr>\n",
              "  <th>const</th>    <td>  -36.9373</td> <td>    1.822</td> <td>  -20.278</td> <td> 0.000</td> <td>  -40.512</td> <td>  -33.362</td>\n",
              "</tr>\n",
              "</table>\n",
              "<table class=\"simpletable\">\n",
              "<tr>\n",
              "  <th>Omnibus:</th>       <td>1458.637</td> <th>  Durbin-Watson:     </th>  <td>   2.040</td>  \n",
              "</tr>\n",
              "<tr>\n",
              "  <th>Prob(Omnibus):</th>  <td> 0.000</td>  <th>  Jarque-Bera (JB):  </th> <td>2498795.771</td>\n",
              "</tr>\n",
              "<tr>\n",
              "  <th>Skew:</th>           <td>-9.741</td>  <th>  Prob(JB):          </th>  <td>    0.00</td>  \n",
              "</tr>\n",
              "<tr>\n",
              "  <th>Kurtosis:</th>       <td>263.177</td> <th>  Cond. No.          </th>  <td>    46.0</td>  \n",
              "</tr>\n",
              "</table><br/><br/>Notes:<br/>[1] Standard Errors assume that the covariance matrix of the errors is correctly specified."
            ]
          },
          "metadata": {},
          "execution_count": 11
        }
      ],
      "source": [
        "def train_model(variables):\n",
        "    if len(variables) == 0:\n",
        "        return None\n",
        "    model = LinearRegression()\n",
        "    model.fit(X_reg[variables], Y)\n",
        "    return model\n",
        "\n",
        "def score_model(model, variables):\n",
        "    if len(variables) == 0:\n",
        "        return AIC_score(Y, [Y.mean()] * len(Y), model, df=1)\n",
        "    return AIC_score(Y, model.predict(X_reg[variables]), model)\n",
        "\n",
        "def get_stepwise_selection():\n",
        "  _, best_variables = stepwise_selection(X_reg.columns, train_model, score_model, verbose=True)\n",
        "  return best_variables\n",
        "\n",
        "def print_model(Y, X_reg):\n",
        "    predictors = get_stepwise_selection()\n",
        "    lm_factor_ols = sm.OLS(Y, X_reg[predictors].assign(const=1))\n",
        "    results = lm_factor_ols.fit()\n",
        "    return results.summary()\n",
        "\n",
        "print_model(Y, X_reg)"
      ]
    },
    {
      "cell_type": "markdown",
      "metadata": {
        "id": "RzGQDOL3gYYS"
      },
      "source": [
        "#Classification"
      ]
    },
    {
      "cell_type": "markdown",
      "metadata": {
        "id": "P58oJBNz_G21"
      },
      "source": [
        "###\"Отраслевой\" случай\n",
        "####Метки проставлены на основе принадлежности к определенному виду деятельности"
      ]
    },
    {
      "cell_type": "code",
      "execution_count": 12,
      "metadata": {
        "id": "an-4hPmwiczL",
        "colab": {
          "base_uri": "https://localhost:8080/"
        },
        "outputId": "4ffe7b24-5281-4de3-eac9-fc70394b6298"
      },
      "outputs": [
        {
          "output_type": "execute_result",
          "data": {
            "text/plain": [
              "Index(['INFR', 'PARTNERS', 'Finance'], dtype='object')"
            ]
          },
          "metadata": {},
          "execution_count": 12
        }
      ],
      "source": [
        "df_class = df_tream.drop('IT&Telecom', axis=1)\n",
        "df_class['class_industry'] = np.where((df_class['Finance'] == 1) | (df_class['Medicine'] == 1), '1', '0')\n",
        "X_ind = df_class.loc[:, ['INFR', 'PARTNERS', 'Finance']]\n",
        "Y_ind = df_class['class_industry']\n",
        "X_ind.columns"
      ]
    },
    {
      "cell_type": "markdown",
      "metadata": {
        "id": "Uqd_2r7GAKbX"
      },
      "source": [
        "###\"Стоимостной\" случай\n",
        "####Метки проставлены относительно медианного значения ROE"
      ]
    },
    {
      "cell_type": "code",
      "execution_count": 13,
      "metadata": {
        "colab": {
          "base_uri": "https://localhost:8080/"
        },
        "id": "a7Oi6ZV5hMae",
        "outputId": "7883a7c9-3d27-4c42-8b89-3c3b29b8e267"
      },
      "outputs": [
        {
          "output_type": "execute_result",
          "data": {
            "text/plain": [
              "Index(['ROE', 'INFR', 'PARTNERS', 'Finance', 'Construction', 'Manufacture',\n",
              "       'Energy', 'Medicine', 'class_roe'],\n",
              "      dtype='object')"
            ]
          },
          "metadata": {},
          "execution_count": 13
        }
      ],
      "source": [
        "df_class = df_tream.drop('IT&Telecom', axis=1)\n",
        "df_class['class_roe'] = np.where(df_class['ROE'] > df_class['ROE'].median(), '1', '0')\n",
        "X_roe = df_class.loc[:, ~df_class.columns.isin(['ROE, class_roe'])]\n",
        "Y_roe = df_class['class_roe']\n",
        "X_roe.columns"
      ]
    },
    {
      "cell_type": "code",
      "execution_count": 14,
      "metadata": {
        "id": "rY9eadYDgV0R"
      },
      "outputs": [],
      "source": [
        "X = X_ind\n",
        "y = Y_ind\n",
        "\n",
        "le = LabelEncoder()\n",
        "y = le.fit_transform(y)\n",
        "\n",
        "X_train, X_test, y_train, y_test =\\\n",
        "            train_test_split(X, y, \n",
        "                             test_size=0.2, \n",
        "                             random_state=1,\n",
        "                             stratify=y)"
      ]
    },
    {
      "cell_type": "code",
      "execution_count": 15,
      "metadata": {
        "id": "XGsluS7KgV9G",
        "colab": {
          "base_uri": "https://localhost:8080/"
        },
        "outputId": "142a6e9f-9fbc-4c4c-a964-fce6c1971fe4"
      },
      "outputs": [
        {
          "output_type": "stream",
          "name": "stdout",
          "text": [
            "10-fold cross validation:\n",
            "\n",
            "ROC AUC: 0.856 (+/- 0.063) [Logistic regression]\n",
            "ROC AUC: 0.850 (+/- 0.048) [Decision tree]\n",
            "ROC AUC: 0.800 (+/- 0.106) [KNN]\n"
          ]
        }
      ],
      "source": [
        "clf1 = LogisticRegression(penalty='l2', \n",
        "                          C=0.001,\n",
        "                          solver='lbfgs',\n",
        "                          random_state=1)\n",
        "\n",
        "clf2 = DecisionTreeClassifier(max_depth=1,\n",
        "                              criterion='entropy',\n",
        "                              random_state=0)\n",
        "\n",
        "clf3 = KNeighborsClassifier(n_neighbors=1,\n",
        "                            p=2,\n",
        "                            metric='minkowski')\n",
        "\n",
        "pipe1 = Pipeline([['sc', StandardScaler()],\n",
        "                  ['clf', clf1]])\n",
        "\n",
        "pipe3 = Pipeline([['sc', StandardScaler()],\n",
        "                  ['clf', clf3]])\n",
        "\n",
        "clf_labels = ['Logistic regression', 'Decision tree', 'KNN']\n",
        "\n",
        "print('10-fold cross validation:\\n')\n",
        "for clf, label in zip([pipe1, clf2, pipe3], clf_labels):\n",
        "    scores = cross_val_score(estimator=clf,\n",
        "                             X=X_train,\n",
        "                             y=y_train,\n",
        "                             cv=10,\n",
        "                             scoring='roc_auc')\n",
        "    print(\"ROC AUC: %0.3f (+/- %0.3f) [%s]\"\n",
        "          % (scores.mean(), scores.std(), label))\n",
        "\n",
        "tree = DecisionTreeClassifier(criterion='entropy', \n",
        "                              max_depth=3,\n",
        "                              random_state=1)\n",
        "\n",
        "bag = RandomForestClassifier(\n",
        "                        n_estimators=1000, \n",
        "                        max_samples=1.0, \n",
        "                        max_features=1.0, \n",
        "                        bootstrap=True, \n",
        "                        n_jobs=1, \n",
        "                        random_state=1)\n",
        "\n",
        "grad = GradientBoostingClassifier(\n",
        "                         n_estimators=1000, \n",
        "                         learning_rate=0.1,\n",
        "                         random_state=1)"
      ]
    },
    {
      "cell_type": "code",
      "execution_count": 16,
      "metadata": {
        "colab": {
          "base_uri": "https://localhost:8080/"
        },
        "id": "ovM8LgYBgWCi",
        "outputId": "1286603d-1c11-4cdb-b454-bae081e0d5dc"
      },
      "outputs": [
        {
          "output_type": "stream",
          "name": "stdout",
          "text": [
            "Decision tree train/test accuracies 0.874/0.881\n",
            "RandomForest train/test accuracies 0.874/0.881\n",
            "GradientBoost train/test accuracies 0.874/0.864\n"
          ]
        }
      ],
      "source": [
        "tree = tree.fit(X_train, y_train)\n",
        "y_train_pred = tree.predict(X_train)\n",
        "y_test_pred = tree.predict(X_test)\n",
        "\n",
        "tree_train = accuracy_score(y_train, y_train_pred)\n",
        "tree_test = accuracy_score(y_test, y_test_pred)\n",
        "print('Decision tree train/test accuracies %.3f/%.3f'\n",
        "      % (tree_train, tree_test))\n",
        "\n",
        "bag = bag.fit(X_train, y_train)\n",
        "y_train_pred = bag.predict(X_train)\n",
        "y_test_pred = bag.predict(X_test)\n",
        "\n",
        "bag_train = accuracy_score(y_train, y_train_pred) \n",
        "bag_test = accuracy_score(y_test, y_test_pred) \n",
        "print('RandomForest train/test accuracies %.3f/%.3f'\n",
        "      % (bag_train, bag_test))\n",
        "\n",
        "grad = grad.fit(X_train, y_train)\n",
        "y_train_pred = grad.predict(X_train)\n",
        "y_test_pred = grad.predict(X_test)\n",
        "\n",
        "grad_train = accuracy_score(y_train, y_train_pred) \n",
        "grad_test = accuracy_score(y_test, y_test_pred) \n",
        "print('GradientBoost train/test accuracies %.3f/%.3f'\n",
        "      % (grad_train, grad_test))"
      ]
    },
    {
      "cell_type": "markdown",
      "source": [
        "###ROC CURVE"
      ],
      "metadata": {
        "id": "O5vm9x5rO1uH"
      }
    },
    {
      "cell_type": "code",
      "execution_count": 18,
      "metadata": {
        "id": "kMqc22MbgWJw",
        "colab": {
          "base_uri": "https://localhost:8080/",
          "height": 348
        },
        "outputId": "f3c843c5-a3e6-4733-8d92-021a289eedf3"
      },
      "outputs": [
        {
          "output_type": "stream",
          "name": "stdout",
          "text": [
            "ROC AUC: 0.850 (+/- 0.048) [Decision Tree]\n",
            "ROC AUC: 0.800 (+/- 0.106) [K Nearest Neighbors]\n",
            "ROC AUC: 0.850 (+/- 0.054) [Random Forest]\n",
            "ROC AUC: 0.849 (+/- 0.058) [Boosting]\n"
          ]
        },
        {
          "output_type": "display_data",
          "data": {
            "text/plain": [
              "<Figure size 432x288 with 1 Axes>"
            ],
            "image/png": "[encoded data removed]"
          },
          "metadata": {
            "needs_background": "light"
          }
        }
      ],
      "source": [
        "all_clf = [clf2, pipe3, bag, grad]\n",
        "clf_labels = ['Decision Tree', 'K Nearest Neighbors', 'Random Forest', 'Boosting']\n",
        "colors = ['gray', 'black', 'grey', 'grey']\n",
        "linestyles = ['--', '-', ':', '-.']\n",
        "\n",
        "for clf, label in zip(all_clf, clf_labels):\n",
        "    scores = cross_val_score(estimator=clf,\n",
        "                             X=X_train,\n",
        "                             y=y_train,\n",
        "                             cv=10,\n",
        "                             scoring='roc_auc')\n",
        "    print(\"ROC AUC: %0.3f (+/- %0.3f) [%s]\"\n",
        "          % (scores.mean(), scores.std(), label))\n",
        "\n",
        "for clf, label, clr, ls \\\n",
        "        in zip(all_clf,\n",
        "               clf_labels, colors, linestyles):\n",
        "\n",
        "    # assuming the label of the positive class is 1\n",
        "    y_pred = clf.fit(X_train,\n",
        "                     y_train).predict_proba(X_test)[:, 1]\n",
        "    fpr, tpr, thresholds = roc_curve(y_true=y_test,\n",
        "                                     y_score=y_pred)\n",
        "    roc_auc = auc(x=fpr, y=tpr)\n",
        "    plt.plot(fpr, tpr,\n",
        "             color=clr,\n",
        "             linestyle=ls,\n",
        "             label='%s (auc = %0.4f)' % (label, roc_auc))\n",
        "\n",
        "plt.legend(loc='lower right')\n",
        "plt.plot([0, 1], [0, 1],\n",
        "         linestyle='-',\n",
        "         color='gray',\n",
        "         linewidth=1)\n",
        "\n",
        "plt.xlim([-0.1, 1.1])\n",
        "plt.ylim([-0.1, 1.1])\n",
        "plt.grid(alpha=0.5)\n",
        "plt.xlabel('False positive rate (FPR)')\n",
        "plt.ylabel('True positive rate (TPR)')\n",
        "\n",
        "plt.savefig('./image', dpi=900)\n",
        "plt.show()"
      ]
    }
  ],
  "metadata": {
    "colab": {
      "provenance": []
    },
    "kernelspec": {
      "display_name": "Python 3",
      "name": "python3"
    },
    "language_info": {
      "name": "python"
    }
  },
  "nbformat": 4,
  "nbformat_minor": 0
}