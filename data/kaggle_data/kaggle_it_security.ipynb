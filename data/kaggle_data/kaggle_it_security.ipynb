{
  "cells": [
    {
      "cell_type": "code",
      "execution_count": null,
      "metadata": {
        "colab": {
          "base_uri": "https://localhost:8080/"
        },
        "id": "YqsClLee-W2H",
        "outputId": "c61e70cd-3a6d-4ce9-82b3-6c2e339923ae"
      },
      "outputs": [
        {
          "output_type": "stream",
          "name": "stdout",
          "text": [
            "Looking in indexes: https://pypi.org/simple, https://us-python.pkg.dev/colab-wheels/public/simple/\n",
            "Requirement already satisfied: dmba in /usr/local/lib/python3.8/dist-packages (0.1.0)\n"
          ]
        }
      ],
      "source": [
        "!pip install dmba"
      ]
    },
    {
      "cell_type": "code",
      "execution_count": null,
      "metadata": {
        "id": "zeC4asysoKCS"
      },
      "outputs": [],
      "source": [
        "import numpy as np\n",
        "import pandas as pd\n",
        "from sklearn.metrics import r2_score, mean_squared_error\n",
        "from sklearn.linear_model import LinearRegression\n",
        "import statsmodels.api as sm\n",
        "from dmba import stepwise_selection\n",
        "from dmba import AIC_score"
      ]
    },
    {
      "cell_type": "code",
      "execution_count": null,
      "metadata": {
        "id": "ewV01kIEGV_L"
      },
      "outputs": [],
      "source": [
        "%matplotlib inline"
      ]
    },
    {
      "cell_type": "code",
      "execution_count": null,
      "metadata": {
        "colab": {
          "base_uri": "https://localhost:8080/"
        },
        "id": "g6N7hNvyoYNj",
        "outputId": "89585cf4-2dc7-4b92-9c54-aa57873d308c"
      },
      "outputs": [
        {
          "output_type": "stream",
          "name": "stdout",
          "text": [
            "<class 'pandas.core.frame.DataFrame'>\n",
            "Int64Index: 1127 entries, 1 to 487\n",
            "Data columns (total 6 columns):\n",
            " #   Column    Non-Null Count  Dtype  \n",
            "---  ------    --------------  -----  \n",
            " 0   ROA       1120 non-null   float64\n",
            " 1   ROE       1117 non-null   float64\n",
            " 2   IND       1127 non-null   int64  \n",
            " 3   INFR      1127 non-null   int64  \n",
            " 4   PEOPLE    1127 non-null   int64  \n",
            " 5   PARTNERS  1127 non-null   int64  \n",
            "dtypes: float64(2), int64(4)\n",
            "memory usage: 61.6 KB\n"
          ]
        }
      ],
      "source": [
        "df = pd.read_csv('./cybersec_final_data.csv', sep=';', decimal=',', index_col='ID')\n",
        "columns = ['ROA', 'ROE', 'IND', 'INFR', 'PEOPLE', 'PARTNERS']\n",
        "df = df[columns]\n",
        "df.info()"
      ]
    },
    {
      "cell_type": "code",
      "source": [
        "df['IND'].value_counts()"
      ],
      "metadata": {
        "colab": {
          "base_uri": "https://localhost:8080/"
        },
        "id": "_xy6KR00cYFM",
        "outputId": "1fc24cb7-4402-40e1-dff4-5acf3bfb4b6f"
      },
      "execution_count": null,
      "outputs": [
        {
          "output_type": "execute_result",
          "data": {
            "text/plain": [
              "1    284\n",
              "2    267\n",
              "7    246\n",
              "4    123\n",
              "6    117\n",
              "3     57\n",
              "5     33\n",
              "Name: IND, dtype: int64"
            ]
          },
          "metadata": {},
          "execution_count": 409
        }
      ]
    },
    {
      "cell_type": "code",
      "execution_count": null,
      "metadata": {
        "colab": {
          "base_uri": "https://localhost:8080/",
          "height": 206
        },
        "id": "U9G4IapIvcS1",
        "outputId": "175b6a62-7b73-4084-d9fa-d9e96f59bf82"
      },
      "outputs": [
        {
          "output_type": "execute_result",
          "data": {
            "text/plain": [
              "               ROA       ROE      INFR    PEOPLE  PARTNERS\n",
              "ROA       1.000000  0.008218  0.116992  0.078316  0.001306\n",
              "ROE       0.008218  1.000000  0.520908  0.356874  0.255719\n",
              "INFR      0.116992  0.520908  1.000000  0.706253  0.295150\n",
              "PEOPLE    0.078316  0.356874  0.706253  1.000000  0.228645\n",
              "PARTNERS  0.001306  0.255719  0.295150  0.228645  1.000000"
            ],
            "text/html": [
              "\n",
              "  <div id=\"df-58432db6-5078-4375-9741-97ece3789905\">\n",
              "    <div class=\"colab-df-container\">\n",
              "      <div>\n",
              "<style scoped>\n",
              "    .dataframe tbody tr th:only-of-type {\n",
              "        vertical-align: middle;\n",
              "    }\n",
              "\n",
              "    .dataframe tbody tr th {\n",
              "        vertical-align: top;\n",
              "    }\n",
              "\n",
              "    .dataframe thead th {\n",
              "        text-align: right;\n",
              "    }\n",
              "</style>\n",
              "<table border=\"1\" class=\"dataframe\">\n",
              "  <thead>\n",
              "    <tr style=\"text-align: right;\">\n",
              "      <th></th>\n",
              "      <th>ROA</th>\n",
              "      <th>ROE</th>\n",
              "      <th>INFR</th>\n",
              "      <th>PEOPLE</th>\n",
              "      <th>PARTNERS</th>\n",
              "    </tr>\n",
              "  </thead>\n",
              "  <tbody>\n",
              "    <tr>\n",
              "      <th>ROA</th>\n",
              "      <td>1.000000</td>\n",
              "      <td>0.008218</td>\n",
              "      <td>0.116992</td>\n",
              "      <td>0.078316</td>\n",
              "      <td>0.001306</td>\n",
              "    </tr>\n",
              "    <tr>\n",
              "      <th>ROE</th>\n",
              "      <td>0.008218</td>\n",
              "      <td>1.000000</td>\n",
              "      <td>0.520908</td>\n",
              "      <td>0.356874</td>\n",
              "      <td>0.255719</td>\n",
              "    </tr>\n",
              "    <tr>\n",
              "      <th>INFR</th>\n",
              "      <td>0.116992</td>\n",
              "      <td>0.520908</td>\n",
              "      <td>1.000000</td>\n",
              "      <td>0.706253</td>\n",
              "      <td>0.295150</td>\n",
              "    </tr>\n",
              "    <tr>\n",
              "      <th>PEOPLE</th>\n",
              "      <td>0.078316</td>\n",
              "      <td>0.356874</td>\n",
              "      <td>0.706253</td>\n",
              "      <td>1.000000</td>\n",
              "      <td>0.228645</td>\n",
              "    </tr>\n",
              "    <tr>\n",
              "      <th>PARTNERS</th>\n",
              "      <td>0.001306</td>\n",
              "      <td>0.255719</td>\n",
              "      <td>0.295150</td>\n",
              "      <td>0.228645</td>\n",
              "      <td>1.000000</td>\n",
              "    </tr>\n",
              "  </tbody>\n",
              "</table>\n",
              "</div>\n",
              "      <button class=\"colab-df-convert\" onclick=\"convertToInteractive('df-58432db6-5078-4375-9741-97ece3789905')\"\n",
              "              title=\"Convert this dataframe to an interactive table.\"\n",
              "              style=\"display:none;\">\n",
              "        \n",
              "  <svg xmlns=\"http://www.w3.org/2000/svg\" height=\"24px\"viewBox=\"0 0 24 24\"\n",
              "       width=\"24px\">\n",
              "    <path d=\"M0 0h24v24H0V0z\" fill=\"none\"/>\n",
              "    <path d=\"M18.56 5.44l.94 2.06.94-2.06 2.06-.94-2.06-.94-.94-2.06-.94 2.06-2.06.94zm-11 1L8.5 8.5l.94-2.06 2.06-.94-2.06-.94L8.5 2.5l-.94 2.06-2.06.94zm10 10l.94 2.06.94-2.06 2.06-.94-2.06-.94-.94-2.06-.94 2.06-2.06.94z\"/><path d=\"M17.41 7.96l-1.37-1.37c-.4-.4-.92-.59-1.43-.59-.52 0-1.04.2-1.43.59L10.3 9.45l-7.72 7.72c-.78.78-.78 2.05 0 2.83L4 21.41c.39.39.9.59 1.41.59.51 0 1.02-.2 1.41-.59l7.78-7.78 2.81-2.81c.8-.78.8-2.07 0-2.86zM5.41 20L4 18.59l7.72-7.72 1.47 1.35L5.41 20z\"/>\n",
              "  </svg>\n",
              "      </button>\n",
              "      \n",
              "  <style>\n",
              "    .colab-df-container {\n",
              "      display:flex;\n",
              "      flex-wrap:wrap;\n",
              "      gap: 12px;\n",
              "    }\n",
              "\n",
              "    .colab-df-convert {\n",
              "      background-color: #E8F0FE;\n",
              "      border: none;\n",
              "      border-radius: 50%;\n",
              "      cursor: pointer;\n",
              "      display: none;\n",
              "      fill: #1967D2;\n",
              "      height: 32px;\n",
              "      padding: 0 0 0 0;\n",
              "      width: 32px;\n",
              "    }\n",
              "\n",
              "    .colab-df-convert:hover {\n",
              "      background-color: #E2EBFA;\n",
              "      box-shadow: 0px 1px 2px rgba(60, 64, 67, 0.3), 0px 1px 3px 1px rgba(60, 64, 67, 0.15);\n",
              "      fill: #174EA6;\n",
              "    }\n",
              "\n",
              "    [theme=dark] .colab-df-convert {\n",
              "      background-color: #3B4455;\n",
              "      fill: #D2E3FC;\n",
              "    }\n",
              "\n",
              "    [theme=dark] .colab-df-convert:hover {\n",
              "      background-color: #434B5C;\n",
              "      box-shadow: 0px 1px 3px 1px rgba(0, 0, 0, 0.15);\n",
              "      filter: drop-shadow(0px 1px 2px rgba(0, 0, 0, 0.3));\n",
              "      fill: #FFFFFF;\n",
              "    }\n",
              "  </style>\n",
              "\n",
              "      <script>\n",
              "        const buttonEl =\n",
              "          document.querySelector('#df-58432db6-5078-4375-9741-97ece3789905 button.colab-df-convert');\n",
              "        buttonEl.style.display =\n",
              "          google.colab.kernel.accessAllowed ? 'block' : 'none';\n",
              "\n",
              "        async function convertToInteractive(key) {\n",
              "          const element = document.querySelector('#df-58432db6-5078-4375-9741-97ece3789905');\n",
              "          const dataTable =\n",
              "            await google.colab.kernel.invokeFunction('convertToInteractive',\n",
              "                                                     [key], {});\n",
              "          if (!dataTable) return;\n",
              "\n",
              "          const docLinkHtml = 'Like what you see? Visit the ' +\n",
              "            '<a target=\"_blank\" href=https://colab.research.google.com/notebooks/data_table.ipynb>data table notebook</a>'\n",
              "            + ' to learn more about interactive tables.';\n",
              "          element.innerHTML = '';\n",
              "          dataTable['output_type'] = 'display_data';\n",
              "          await google.colab.output.renderOutput(dataTable, element);\n",
              "          const docLink = document.createElement('div');\n",
              "          docLink.innerHTML = docLinkHtml;\n",
              "          element.appendChild(docLink);\n",
              "        }\n",
              "      </script>\n",
              "    </div>\n",
              "  </div>\n",
              "  "
            ]
          },
          "metadata": {},
          "execution_count": 410
        }
      ],
      "source": [
        "df.drop('IND', axis=1).corr()"
      ]
    },
    {
      "cell_type": "code",
      "execution_count": null,
      "metadata": {
        "id": "CcmfSuZVzjpr"
      },
      "outputs": [],
      "source": [
        "df = df.drop(['ROA', 'PEOPLE'], axis=1)"
      ]
    },
    {
      "cell_type": "code",
      "execution_count": null,
      "metadata": {
        "id": "Z5vhuYkkKKs-"
      },
      "outputs": [],
      "source": [
        "df['ROE'] = df['ROE'].replace(np.NaN, 0)"
      ]
    },
    {
      "cell_type": "code",
      "source": [
        "df = pd.get_dummies(df, columns = ['IND'])\n",
        "df = df.rename( columns={ \n",
        "    'IND_1':'IT&Telecom', 'IND_2':'Finance', 'IND_3':'Construction', \n",
        "    'IND_4':'Manufacture', 'IND_5':'Energy', 'IND_6':'Medicine', 'IND_7':'Others'})\n",
        "df_cluster = df.drop('ROE', axis=1)"
      ],
      "metadata": {
        "id": "2rKW106LZ--x"
      },
      "execution_count": null,
      "outputs": []
    },
    {
      "cell_type": "code",
      "execution_count": null,
      "metadata": {
        "id": "B-NwbapUIXNv"
      },
      "outputs": [],
      "source": [
        "df_tream = df[df['Others'] !=1].drop(['Others'], axis=1)"
      ]
    },
    {
      "cell_type": "code",
      "source": [
        "df_tream.shape"
      ],
      "metadata": {
        "colab": {
          "base_uri": "https://localhost:8080/"
        },
        "id": "SjExI1WzjZos",
        "outputId": "72773cf4-b9cb-4b8f-b2e0-688a53362746"
      },
      "execution_count": null,
      "outputs": [
        {
          "output_type": "execute_result",
          "data": {
            "text/plain": [
              "(881, 9)"
            ]
          },
          "metadata": {},
          "execution_count": 419
        }
      ]
    },
    {
      "cell_type": "markdown",
      "source": [],
      "metadata": {
        "id": "pg3aLTZDj9zX"
      }
    },
    {
      "cell_type": "code",
      "execution_count": null,
      "metadata": {
        "id": "h95-IywyIXQq"
      },
      "outputs": [],
      "source": [
        "X = df_tream.loc[:, ~df_tream.columns.isin(['ROE'])]\n",
        "Y = df_tream['ROE']"
      ]
    },
    {
      "cell_type": "code",
      "source": [
        "X.columns"
      ],
      "metadata": {
        "colab": {
          "base_uri": "https://localhost:8080/"
        },
        "id": "N-wJaaWMhny-",
        "outputId": "96f7b33d-9050-48e3-bdc3-5f746503dc92"
      },
      "execution_count": null,
      "outputs": [
        {
          "output_type": "execute_result",
          "data": {
            "text/plain": [
              "Index(['INFR', 'PARTNERS', 'IT&Telecom', 'Finance', 'Construction',\n",
              "       'Manufacture', 'Energy', 'Medicine'],\n",
              "      dtype='object')"
            ]
          },
          "metadata": {},
          "execution_count": 416
        }
      ]
    },
    {
      "cell_type": "code",
      "execution_count": null,
      "metadata": {
        "colab": {
          "base_uri": "https://localhost:8080/",
          "height": 597
        },
        "id": "d-DUq-aJIXUE",
        "outputId": "c4d272e4-85f8-4f9e-c9cf-9b45f3b3a0fe"
      },
      "outputs": [
        {
          "output_type": "stream",
          "name": "stdout",
          "text": [
            "Variables: INFR, PARTNERS, IT&Telecom, Finance, Construction, Manufacture, Energy, Medicine\n",
            "Start: score=5531.25, constant\n",
            "Step: score=5203.69, add INFR\n",
            "Step: score=5196.54, add PARTNERS\n",
            "Step: score=5190.67, add Medicine\n",
            "Step: score=5190.67, unchanged None\n"
          ]
        },
        {
          "output_type": "execute_result",
          "data": {
            "text/plain": [
              "<class 'statsmodels.iolib.summary.Summary'>\n",
              "\"\"\"\n",
              "                            OLS Regression Results                            \n",
              "==============================================================================\n",
              "Dep. Variable:                    ROE   R-squared:                       0.325\n",
              "Model:                            OLS   Adj. R-squared:                  0.323\n",
              "Method:                 Least Squares   F-statistic:                     140.9\n",
              "Date:                Tue, 10 Jan 2023   Prob (F-statistic):           1.63e-74\n",
              "Time:                        16:38:15   Log-Likelihood:                -2590.3\n",
              "No. Observations:                 881   AIC:                             5189.\n",
              "Df Residuals:                     877   BIC:                             5208.\n",
              "Df Model:                           3                                         \n",
              "Covariance Type:            nonrobust                                         \n",
              "==============================================================================\n",
              "                 coef    std err          t      P>|t|      [0.025      0.975]\n",
              "------------------------------------------------------------------------------\n",
              "INFR          11.5000      0.625     18.409      0.000      10.274      12.726\n",
              "PARTNERS       1.3164      0.435      3.027      0.003       0.463       2.170\n",
              "Medicine      -1.2830      0.457     -2.805      0.005      -2.181      -0.385\n",
              "const        -36.9475      1.821    -20.286      0.000     -40.522     -33.373\n",
              "==============================================================================\n",
              "Omnibus:                     1458.305   Durbin-Watson:                   2.039\n",
              "Prob(Omnibus):                  0.000   Jarque-Bera (JB):          2497517.347\n",
              "Skew:                          -9.736   Prob(JB):                         0.00\n",
              "Kurtosis:                     263.111   Cond. No.                         46.0\n",
              "==============================================================================\n",
              "\n",
              "Notes:\n",
              "[1] Standard Errors assume that the covariance matrix of the errors is correctly specified.\n",
              "\"\"\""
            ],
            "text/html": [
              "<table class=\"simpletable\">\n",
              "<caption>OLS Regression Results</caption>\n",
              "<tr>\n",
              "  <th>Dep. Variable:</th>           <td>ROE</td>       <th>  R-squared:         </th> <td>   0.325</td>\n",
              "</tr>\n",
              "<tr>\n",
              "  <th>Model:</th>                   <td>OLS</td>       <th>  Adj. R-squared:    </th> <td>   0.323</td>\n",
              "</tr>\n",
              "<tr>\n",
              "  <th>Method:</th>             <td>Least Squares</td>  <th>  F-statistic:       </th> <td>   140.9</td>\n",
              "</tr>\n",
              "<tr>\n",
              "  <th>Date:</th>             <td>Tue, 10 Jan 2023</td> <th>  Prob (F-statistic):</th> <td>1.63e-74</td>\n",
              "</tr>\n",
              "<tr>\n",
              "  <th>Time:</th>                 <td>16:38:15</td>     <th>  Log-Likelihood:    </th> <td> -2590.3</td>\n",
              "</tr>\n",
              "<tr>\n",
              "  <th>No. Observations:</th>      <td>   881</td>      <th>  AIC:               </th> <td>   5189.</td>\n",
              "</tr>\n",
              "<tr>\n",
              "  <th>Df Residuals:</th>          <td>   877</td>      <th>  BIC:               </th> <td>   5208.</td>\n",
              "</tr>\n",
              "<tr>\n",
              "  <th>Df Model:</th>              <td>     3</td>      <th>                     </th>     <td> </td>   \n",
              "</tr>\n",
              "<tr>\n",
              "  <th>Covariance Type:</th>      <td>nonrobust</td>    <th>                     </th>     <td> </td>   \n",
              "</tr>\n",
              "</table>\n",
              "<table class=\"simpletable\">\n",
              "<tr>\n",
              "      <td></td>        <th>coef</th>     <th>std err</th>      <th>t</th>      <th>P>|t|</th>  <th>[0.025</th>    <th>0.975]</th>  \n",
              "</tr>\n",
              "<tr>\n",
              "  <th>INFR</th>     <td>   11.5000</td> <td>    0.625</td> <td>   18.409</td> <td> 0.000</td> <td>   10.274</td> <td>   12.726</td>\n",
              "</tr>\n",
              "<tr>\n",
              "  <th>PARTNERS</th> <td>    1.3164</td> <td>    0.435</td> <td>    3.027</td> <td> 0.003</td> <td>    0.463</td> <td>    2.170</td>\n",
              "</tr>\n",
              "<tr>\n",
              "  <th>Medicine</th> <td>   -1.2830</td> <td>    0.457</td> <td>   -2.805</td> <td> 0.005</td> <td>   -2.181</td> <td>   -0.385</td>\n",
              "</tr>\n",
              "<tr>\n",
              "  <th>const</th>    <td>  -36.9475</td> <td>    1.821</td> <td>  -20.286</td> <td> 0.000</td> <td>  -40.522</td> <td>  -33.373</td>\n",
              "</tr>\n",
              "</table>\n",
              "<table class=\"simpletable\">\n",
              "<tr>\n",
              "  <th>Omnibus:</th>       <td>1458.305</td> <th>  Durbin-Watson:     </th>  <td>   2.039</td>  \n",
              "</tr>\n",
              "<tr>\n",
              "  <th>Prob(Omnibus):</th>  <td> 0.000</td>  <th>  Jarque-Bera (JB):  </th> <td>2497517.347</td>\n",
              "</tr>\n",
              "<tr>\n",
              "  <th>Skew:</th>           <td>-9.736</td>  <th>  Prob(JB):          </th>  <td>    0.00</td>  \n",
              "</tr>\n",
              "<tr>\n",
              "  <th>Kurtosis:</th>       <td>263.111</td> <th>  Cond. No.          </th>  <td>    46.0</td>  \n",
              "</tr>\n",
              "</table><br/><br/>Notes:<br/>[1] Standard Errors assume that the covariance matrix of the errors is correctly specified."
            ]
          },
          "metadata": {},
          "execution_count": 417
        }
      ],
      "source": [
        "def train_model(variables):\n",
        "    if len(variables) == 0:\n",
        "        return None\n",
        "    model = LinearRegression()\n",
        "    model.fit(X[variables], Y)\n",
        "    return model\n",
        "\n",
        "def score_model(model, variables):\n",
        "    if len(variables) == 0:\n",
        "        return AIC_score(Y, [Y.mean()] * len(Y), model, df=1)\n",
        "    return AIC_score(Y, model.predict(X[variables]), model)\n",
        "\n",
        "def get_stepwise_selection():\n",
        "  _, best_variables = stepwise_selection(X.columns, train_model, score_model, verbose=True)\n",
        "  return best_variables\n",
        "\n",
        "def print_model(Y, X):\n",
        "    predictors = get_stepwise_selection()\n",
        "    lm_factor_ols = sm.OLS(Y, X[predictors].assign(const=1))\n",
        "    results = lm_factor_ols.fit()\n",
        "    return results.summary()\n",
        "\n",
        "print_model(Y, X)"
      ]
    },
    {
      "cell_type": "code",
      "source": [
        "\n"
      ],
      "metadata": {
        "id": "TLg6DuNbiX-m"
      },
      "execution_count": null,
      "outputs": []
    },
    {
      "cell_type": "code",
      "source": [],
      "metadata": {
        "id": "an-4hPmwiczL"
      },
      "execution_count": null,
      "outputs": []
    },
    {
      "cell_type": "code",
      "source": [],
      "metadata": {
        "id": "CIc_EeUUic7e"
      },
      "execution_count": null,
      "outputs": []
    },
    {
      "cell_type": "code",
      "source": [],
      "metadata": {
        "id": "u69gwDUaidEG"
      },
      "execution_count": null,
      "outputs": []
    },
    {
      "cell_type": "code",
      "source": [
        "# df_quatiles = df[(df['ROE'] < df['ROE'].quantile(0.95)) & (df['ROE'] > df['ROE'].quantile(0.05))]\n",
        "# df_tream = df[(df['IT&Telecom'] != 1) & (df['Others'] !=1 )].drop('IT&Telecom', axis=1)\n",
        "# columns = ['ROE', 'INFR', 'PARTNERS', 'Finance', 'Construction', 'Manufacture', 'Energy', 'Medicine']"
      ],
      "metadata": {
        "id": "f2eLZ0S3iY_v"
      },
      "execution_count": null,
      "outputs": []
    }
  ],
  "metadata": {
    "colab": {
      "provenance": []
    },
    "kernelspec": {
      "display_name": "Python 3",
      "name": "python3"
    },
    "language_info": {
      "name": "python"
    }
  },
  "nbformat": 4,
  "nbformat_minor": 0
}